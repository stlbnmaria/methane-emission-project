{
 "cells": [
  {
   "cell_type": "code",
   "execution_count": null,
   "metadata": {},
   "outputs": [],
   "source": [
    "import geodatasets\n",
    "import geopandas as gpd\n",
    "import folium\n",
    "import imageio\n",
    "import matplotlib.pyplot as plt\n",
    "import numpy as np\n",
    "import os\n",
    "import pandas as pd\n",
    "import seaborn as sns\n",
    "\n",
    "\n",
    "from datetime import datetime\n",
    "from pathlib import Path"
   ]
  },
  {
   "cell_type": "markdown",
   "metadata": {},
   "source": [
    "# 1. Exploring Metadata"
   ]
  },
  {
   "cell_type": "markdown",
   "metadata": {},
   "source": [
    "Loading the Metadata as DataFrame"
   ]
  },
  {
   "cell_type": "code",
   "execution_count": null,
   "metadata": {},
   "outputs": [],
   "source": [
    "# current directory\n",
    "current_dir = os.getcwd()\n",
    "# parent directory of current directory\n",
    "parent_dir = os.path.dirname(current_dir)\n",
    "# relative path to train metadata.csv\n",
    "relative_path_train = \"data/train_data/metadata.csv\"\n",
    "# full path of train metadata.csv\n",
    "csv_path_train = os.path.join(parent_dir, relative_path_train)\n",
    "\n",
    "# relative path to test metadata.csv\n",
    "relative_path_test = \"data/test_data/metadata.csv\"\n",
    "# full path of test metadata.csv\n",
    "csv_path_test = os.path.join(parent_dir, relative_path_test)\n",
    "\n",
    "meta = pd.read_csv(csv_path_train)\n",
    "meta_test = pd.read_csv(csv_path_test)"
   ]
  },
  {
   "cell_type": "code",
   "execution_count": null,
   "metadata": {},
   "outputs": [],
   "source": [
    "print(meta.head())\n",
    "print(meta.dtypes)"
   ]
  },
  {
   "cell_type": "code",
   "execution_count": null,
   "metadata": {},
   "outputs": [],
   "source": [
    "# convert date column to datetime\n",
    "meta['date'] = pd.to_datetime(meta['date'], format=\"%Y%m%d\", errors='coerce')\n",
    "meta_test['date'] = pd.to_datetime(meta_test['date'], format=\"%Y%m%d\", errors='coerce')"
   ]
  },
  {
   "cell_type": "code",
   "execution_count": null,
   "metadata": {},
   "outputs": [],
   "source": [
    "summary_stats = meta.describe()\n",
    "summary_stats_test = meta_test.describe()\n",
    "\n",
    "print(summary_stats, summary_stats_test)"
   ]
  },
  {
   "cell_type": "code",
   "execution_count": null,
   "metadata": {},
   "outputs": [],
   "source": [
    "meta_test"
   ]
  },
  {
   "cell_type": "markdown",
   "metadata": {},
   "source": [
    "## Geographic Location of our Images"
   ]
  },
  {
   "cell_type": "code",
   "execution_count": null,
   "metadata": {},
   "outputs": [],
   "source": [
    "# creating separate df for plume\n",
    "plume_data = meta[meta['plume']==\"yes\"]\n",
    "# creating separate df for no plume\n",
    "no_plume_data = meta[meta['plume']!=\"yes\"]"
   ]
  },
  {
   "cell_type": "markdown",
   "metadata": {},
   "source": [
    "## Static Image of Map"
   ]
  },
  {
   "cell_type": "code",
   "execution_count": null,
   "metadata": {},
   "outputs": [],
   "source": [
    "plume = gpd.GeoDataFrame(plume_data[['id_coord','lon','plume', 'lat', 'set', 'coord_x', 'coord_y']],\n",
    "                       geometry=gpd.points_from_xy(plume_data.lon, plume_data.lat))\n",
    "no_plume = gpd.GeoDataFrame(no_plume_data[['id_coord','lon','plume', 'lat', 'set', 'coord_x', 'coord_y']],\n",
    "                       geometry=gpd.points_from_xy(no_plume_data.lon, no_plume_data.lat))\n",
    "\n",
    "test = gpd.GeoDataFrame(meta_test[['id_coord','lon', 'lat', 'coord_x', 'coord_y']],\n",
    "                       geometry=gpd.points_from_xy(meta_test.lon, meta_test.lat))\n",
    "\n",
    "world = gpd.read_file(gpd.datasets.get_path('naturalearth_lowres'))\n",
    "\n",
    "ax = world.plot(figsize=(15, 8))\n",
    "ax.set_facecolor('lightblue')\n",
    "world.plot(ax=ax, color='grey', edgecolor='white')\n",
    "plume.plot(ax=ax, color='red', markersize=8, label='plume')\n",
    "no_plume.plot(ax=ax, color='green', markersize=8, label='no plume')\n",
    "test.plot(ax=ax, color='yellow', markersize=8, label='test data')\n",
    "\n",
    "ax.tick_params(left=False,\n",
    "               right=False,\n",
    "               top=False,\n",
    "               bottom=False,\n",
    "               labelleft=False,\n",
    "               labeltop=False,\n",
    "               labelright=False,\n",
    "               labelbottom=False)\n",
    "\n",
    "ax.legend()\n",
    "\n",
    "plt.show()"
   ]
  },
  {
   "cell_type": "markdown",
   "metadata": {},
   "source": [
    "## Interactive Map"
   ]
  },
  {
   "cell_type": "code",
   "execution_count": null,
   "metadata": {},
   "outputs": [],
   "source": [
    "m = world.explore(\n",
    "    legend=True,\n",
    "    name=\"world\"\n",
    ")\n",
    "\n",
    "plume.explore(\n",
    "    m=m,\n",
    "    color=\"red\",\n",
    "    name=\"plume\"\n",
    ")\n",
    "\n",
    "no_plume.explore(\n",
    "    m=m,\n",
    "    color=\"green\",\n",
    "    name=\"no_plume\"\n",
    ")\n",
    "\n",
    "test.explore(\n",
    "    m=m,\n",
    "    color=\"yellow\",\n",
    "    name=\"test\"\n",
    ")\n",
    "\n",
    "# use folium to add alternative mape\n",
    "folium.TileLayer(\"CartoDB positron\", show=False).add_to(m)  \n",
    "# use folium to add layer control\n",
    "folium.LayerControl().add_to(m)  \n",
    "\n",
    "m"
   ]
  },
  {
   "cell_type": "markdown",
   "metadata": {},
   "source": [
    "# 2. Exploring Image Data"
   ]
  },
  {
   "cell_type": "code",
   "execution_count": null,
   "metadata": {},
   "outputs": [],
   "source": [
    "def read_tiff(file_path):\n",
    "    \"\"\"reads tiff files and returns images\n",
    "\n",
    "    Args:\n",
    "        file_path (str): the file path of the image(s)\n",
    "\n",
    "    Returns:\n",
    "        image(2D array): returns a 2 or 3d array (in our case 2D)\n",
    "    \"\"\"\n",
    "    image = imageio.imread(file_path)\n",
    "    return image"
   ]
  },
  {
   "cell_type": "code",
   "execution_count": null,
   "metadata": {},
   "outputs": [],
   "source": [
    "class CustomToTensor(object):\n",
    "    def __call__(self, img):\n",
    "        return img.astype(np.float32)/65535.0"
   ]
  },
  {
   "cell_type": "code",
   "execution_count": null,
   "metadata": {},
   "outputs": [],
   "source": [
    "# transform = transforms.Compose([\n",
    "#     transforms.ToPILImage(),\n",
    "#     transforms.ToTensor()\n",
    "# ])"
   ]
  },
  {
   "cell_type": "code",
   "execution_count": null,
   "metadata": {},
   "outputs": [],
   "source": [
    "def create_dataframe(directory, label):\n",
    "    data = []\n",
    "    labels = []\n",
    "\n",
    "    for filename in os.listdir(directory):\n",
    "        if filename.endswith(\".tif\"):\n",
    "            file_path = os.path.join(directory, filename)\n",
    "            #reads tifs\n",
    "            image_data = read_tiff(file_path).astype(np.float32)/65535.0\n",
    "            #if transform:\n",
    "                #image_data = transform(image_data)\n",
    "            # adds each image to data\n",
    "            data.append(image_data)\n",
    "            labels.append(label)\n",
    "    \n",
    "    df = pd.DataFrame({'image':data, 'label':labels})\n",
    "\n",
    "    return df"
   ]
  },
  {
   "cell_type": "code",
   "execution_count": null,
   "metadata": {},
   "outputs": [],
   "source": [
    "# relative path to train plume images\n",
    "relative_path_train_p = \"data/train_data/images/plume\"\n",
    "# relative path to train no plume images\n",
    "relative_path_train_np = \"data/train_data/images/no_plume\"\n",
    "\n",
    "# full path to train plume images\n",
    "train_image_p = os.path.join(parent_dir, relative_path_train_p)\n",
    "# full path to train no-plume images\n",
    "train_image_np = os.path.join(parent_dir, relative_path_train_np)"
   ]
  },
  {
   "cell_type": "code",
   "execution_count": null,
   "metadata": {},
   "outputs": [],
   "source": [
    "df_p = create_dataframe(train_image_p, 1)\n",
    "df_np = create_dataframe(train_image_np, 0)"
   ]
  },
  {
   "cell_type": "code",
   "execution_count": null,
   "metadata": {},
   "outputs": [],
   "source": [
    "# Calculate summary statistics for the 'plume' class\n",
    "plume_means = [np.mean(img) for img in df_p['image']]\n",
    "plume_stds = [np.std(img) for img in df_p['image']]\n",
    "plume_min = [np.min(img) for img in df_p['image']]\n",
    "plume_max = [np.max(img) for img in df_p['image']]\n",
    "\n",
    "# Calculate summary statistics for the 'plume' class\n",
    "no_plume_means = [np.mean(img) for img in df_np['image']]\n",
    "no_plume_stds = [np.std(img) for img in df_np['image']]\n",
    "no_plume_min = [np.min(img) for img in df_np['image']]\n",
    "no_plume_max = [np.max(img) for img in df_np['image']]\n",
    "\n",
    "# Create plume summary dataframe\n",
    "plume_summary = pd.DataFrame({'Mean': plume_means,\n",
    "                              'Std': plume_stds,\n",
    "                              'Min': plume_min,\n",
    "                              'Max': plume_max})\n",
    "\n",
    "# Create no plume summary dataframe\n",
    "no_plume_summary = pd.DataFrame({'Mean': no_plume_means,\n",
    "                              'Std': no_plume_stds,\n",
    "                              'Min': no_plume_min,\n",
    "                              'Max': no_plume_max})\n",
    "\n",
    "print(\"Summary Statistics for 'Plume' Class:\")\n",
    "print(plume_summary.describe())\n",
    "\n",
    "print(\"\\nSummary Statistics for 'No Plume' Class:\")\n",
    "print(no_plume_summary.describe())"
   ]
  },
  {
   "cell_type": "code",
   "execution_count": null,
   "metadata": {},
   "outputs": [],
   "source": [
    "plume_images = np.concatenate(df_p['image'].values)\n",
    "no_plume_images = np.concatenate(df_np['image'].values)\n",
    "\n",
    "plt.figure(figsize=(12, 6))\n",
    "plt.subplot(1, 2, 1)\n",
    "plt.hist(plume_images.ravel(),\n",
    "         bins=256,\n",
    "         range=(0.0, 1.0),\n",
    "         density=True,\n",
    "         color='blue',\n",
    "         alpha=0.7,\n",
    "         label='plume')\n",
    "plt.title('Plume Image Histogram')\n",
    "plt.xlabel('Pixel Value')\n",
    "plt.ylabel('Frequency')\n",
    "plt.legend()\n",
    "\n",
    "\n",
    "plt.subplot(1, 2, 2)\n",
    "plt.hist(no_plume_images.ravel(),\n",
    "         bins=256,\n",
    "         range=(0.0, 1.0),\n",
    "         density=True,\n",
    "         color='red',\n",
    "         alpha=0.7,\n",
    "         label='no plume')\n",
    "plt.title('No Plume Image Histogram')\n",
    "plt.xlabel('Pixel Value')\n",
    "plt.ylabel('Frequency')\n",
    "\n",
    "plt.legend()\n",
    "plt.show()\n"
   ]
  },
  {
   "cell_type": "code",
   "execution_count": null,
   "metadata": {},
   "outputs": [],
   "source": [
    "plume_1d = [img.ravel() for img in df_p['image'].values]\n",
    "plume_1d_data = pd.DataFrame({'label': '1',\n",
    "                              'pixel_value': np.concatenate(plume_1d)})\n",
    "no_plume_1d = [img.ravel() for img in df_np['image'].values]\n",
    "no_plume_1d_data = pd.DataFrame({'label': '0',\n",
    "                              'pixel_value': np.concatenate(no_plume_1d)})\n",
    "\n",
    "combined_data = pd.concat([plume_1d_data, no_plume_1d_data])\n",
    "\n",
    "plt.figure(figsize=(10, 6))\n",
    "sns.violinplot(data=combined_data, x='label', y='pixel_value', palette=[\"blue\", \"red\"])\n",
    "plt.title('Violin Plot of Pixel Values for Plume and No Plume Classes')\n",
    "plt.xlabel('Class')\n",
    "plt.ylabel('Pixel Value')\n",
    "plt.show()"
   ]
  }
 ],
 "metadata": {
  "kernelspec": {
   "display_name": "bikes-ramp",
   "language": "python",
   "name": "python3"
  },
  "language_info": {
   "codemirror_mode": {
    "name": "ipython",
    "version": 3
   },
   "file_extension": ".py",
   "mimetype": "text/x-python",
   "name": "python",
   "nbconvert_exporter": "python",
   "pygments_lexer": "ipython3",
   "version": "3.10.7"
  }
 },
 "nbformat": 4,
 "nbformat_minor": 2
}
